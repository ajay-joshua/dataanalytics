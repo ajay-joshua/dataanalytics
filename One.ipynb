{
  "nbformat": 4,
  "nbformat_minor": 0,
  "metadata": {
    "colab": {
      "name": "One.ipynb",
      "version": "0.3.2",
      "provenance": [],
      "collapsed_sections": []
    },
    "language_info": {
      "codemirror_mode": {
        "name": "ipython",
        "version": 3
      },
      "file_extension": ".py",
      "mimetype": "text/x-python",
      "name": "python",
      "nbconvert_exporter": "python",
      "pygments_lexer": "ipython3",
      "version": "3.7.1"
    },
    "kernelspec": {
      "display_name": "Python 3",
      "language": "python",
      "name": "python3"
    }
  },
  "cells": [
    {
      "cell_type": "code",
      "metadata": {
        "id": "c-PP4_oXTQ4A",
        "colab_type": "code",
        "outputId": "c2fe3bc1-8746-4258-9894-bc00cc261410",
        "colab": {
          "base_uri": "https://localhost:8080/",
          "height": 34
        }
      },
      "source": [
        "from google.colab import drive\n",
        "drive.mount(\"/gdrive\")"
      ],
      "execution_count": 0,
      "outputs": [
        {
          "output_type": "stream",
          "text": [
            "Drive already mounted at /gdrive; to attempt to forcibly remount, call drive.mount(\"/gdrive\", force_remount=True).\n"
          ],
          "name": "stdout"
        }
      ]
    },
    {
      "cell_type": "code",
      "metadata": {
        "id": "bv0zYd_-T6Pd",
        "colab_type": "code",
        "outputId": "7c564f60-bbbe-48f3-87d7-7dda8dbdd330",
        "colab": {
          "base_uri": "https://localhost:8080/",
          "height": 493
        }
      },
      "source": [
        "import os\n",
        "os.chdir(\"/gdrive/My Drive\")\n",
        "os.listdir()\n"
      ],
      "execution_count": 0,
      "outputs": [
        {
          "output_type": "execute_result",
          "data": {
            "text/plain": [
              "['Untitled Folder',\n",
              " 'image1.jpeg',\n",
              " 'exam sylabuses - Copy.zip',\n",
              " 'Untitled',\n",
              " 'Untitled (1)',\n",
              " 'Untitled (2)',\n",
              " 'Untitled (3)',\n",
              " 'Untitled spreadsheet.gsheet',\n",
              " 'Untitled presentation.gslides',\n",
              " 'WIndows10 ReadMe.txt.gdoc',\n",
              " 'Economics Unit 3.gdoc',\n",
              " 'Untitled document.gdoc',\n",
              " 'Consulting agreement.gdoc',\n",
              " 'Intern report - Bar chart 1.gsheet',\n",
              " 'Intern report.gdoc',\n",
              " 'Website',\n",
              " 'Untitled spreadsheet (1).gsheet',\n",
              " 'Resume (1).gdoc',\n",
              " 'Resume.gdoc',\n",
              " 'Untitled document (1).gdoc',\n",
              " 'Pet resume.gdoc',\n",
              " 'Untitled document (2).gdoc',\n",
              " 'Colab Notebooks',\n",
              " 'Airline-Dataset.csv',\n",
              " 'vgsalesdataanalysis-Copy1.ipynb',\n",
              " 'CompleteDataset.csv',\n",
              " 'One.ipynb',\n",
              " 'Bundesliga_Results.csv']"
            ]
          },
          "metadata": {
            "tags": []
          },
          "execution_count": 60
        }
      ]
    },
    {
      "cell_type": "code",
      "metadata": {
        "id": "0nWfygMkI7if",
        "colab_type": "code",
        "colab": {}
      },
      "source": [
        "import numpy as np  \n",
        "import pandas as pd  \n",
        "import matplotlib.pyplot as plt\n",
        "import statistics\n",
        "from scipy import stats\n",
        "from collections import Counter"
      ],
      "execution_count": 0,
      "outputs": []
    },
    {
      "cell_type": "code",
      "metadata": {
        "id": "prlM7DokUU2t",
        "colab_type": "code",
        "colab": {}
      },
      "source": [
        "df=pd.read_csv(\"Bundesliga_Results.csv\")"
      ],
      "execution_count": 0,
      "outputs": []
    },
    {
      "cell_type": "code",
      "metadata": {
        "scrolled": true,
        "id": "TMo3qDF-I7ip",
        "colab_type": "code",
        "outputId": "c236c393-f897-431a-e772-9b0455c8c381",
        "colab": {
          "base_uri": "https://localhost:8080/",
          "height": 297
        }
      },
      "source": [
        "df.describe()"
      ],
      "execution_count": 0,
      "outputs": [
        {
          "output_type": "execute_result",
          "data": {
            "text/html": [
              "<div>\n",
              "<style scoped>\n",
              "    .dataframe tbody tr th:only-of-type {\n",
              "        vertical-align: middle;\n",
              "    }\n",
              "\n",
              "    .dataframe tbody tr th {\n",
              "        vertical-align: top;\n",
              "    }\n",
              "\n",
              "    .dataframe thead th {\n",
              "        text-align: right;\n",
              "    }\n",
              "</style>\n",
              "<table border=\"1\" class=\"dataframe\">\n",
              "  <thead>\n",
              "    <tr style=\"text-align: right;\">\n",
              "      <th></th>\n",
              "      <th>FTHG</th>\n",
              "      <th>FTAG</th>\n",
              "      <th>HTHG</th>\n",
              "      <th>HTAG</th>\n",
              "    </tr>\n",
              "  </thead>\n",
              "  <tbody>\n",
              "    <tr>\n",
              "      <th>count</th>\n",
              "      <td>7650.000000</td>\n",
              "      <td>7650.000000</td>\n",
              "      <td>7038.000000</td>\n",
              "      <td>7038.000000</td>\n",
              "    </tr>\n",
              "    <tr>\n",
              "      <th>mean</th>\n",
              "      <td>1.660000</td>\n",
              "      <td>1.214771</td>\n",
              "      <td>0.727764</td>\n",
              "      <td>0.523728</td>\n",
              "    </tr>\n",
              "    <tr>\n",
              "      <th>std</th>\n",
              "      <td>1.332276</td>\n",
              "      <td>1.158288</td>\n",
              "      <td>0.852518</td>\n",
              "      <td>0.713413</td>\n",
              "    </tr>\n",
              "    <tr>\n",
              "      <th>min</th>\n",
              "      <td>0.000000</td>\n",
              "      <td>0.000000</td>\n",
              "      <td>0.000000</td>\n",
              "      <td>0.000000</td>\n",
              "    </tr>\n",
              "    <tr>\n",
              "      <th>25%</th>\n",
              "      <td>1.000000</td>\n",
              "      <td>0.000000</td>\n",
              "      <td>0.000000</td>\n",
              "      <td>0.000000</td>\n",
              "    </tr>\n",
              "    <tr>\n",
              "      <th>50%</th>\n",
              "      <td>1.000000</td>\n",
              "      <td>1.000000</td>\n",
              "      <td>1.000000</td>\n",
              "      <td>0.000000</td>\n",
              "    </tr>\n",
              "    <tr>\n",
              "      <th>75%</th>\n",
              "      <td>2.000000</td>\n",
              "      <td>2.000000</td>\n",
              "      <td>1.000000</td>\n",
              "      <td>1.000000</td>\n",
              "    </tr>\n",
              "    <tr>\n",
              "      <th>max</th>\n",
              "      <td>9.000000</td>\n",
              "      <td>9.000000</td>\n",
              "      <td>5.000000</td>\n",
              "      <td>5.000000</td>\n",
              "    </tr>\n",
              "  </tbody>\n",
              "</table>\n",
              "</div>"
            ],
            "text/plain": [
              "              FTHG         FTAG         HTHG         HTAG\n",
              "count  7650.000000  7650.000000  7038.000000  7038.000000\n",
              "mean      1.660000     1.214771     0.727764     0.523728\n",
              "std       1.332276     1.158288     0.852518     0.713413\n",
              "min       0.000000     0.000000     0.000000     0.000000\n",
              "25%       1.000000     0.000000     0.000000     0.000000\n",
              "50%       1.000000     1.000000     1.000000     0.000000\n",
              "75%       2.000000     2.000000     1.000000     1.000000\n",
              "max       9.000000     9.000000     5.000000     5.000000"
            ]
          },
          "metadata": {
            "tags": []
          },
          "execution_count": 63
        }
      ]
    },
    {
      "cell_type": "code",
      "metadata": {
        "id": "2qIeP1-8I7iw",
        "colab_type": "code",
        "outputId": "caaa2692-b1c6-4d1c-c7e0-afa290b3c085",
        "colab": {
          "base_uri": "https://localhost:8080/",
          "height": 359
        }
      },
      "source": [
        "df.head(10)"
      ],
      "execution_count": 0,
      "outputs": [
        {
          "output_type": "execute_result",
          "data": {
            "text/html": [
              "<div>\n",
              "<style scoped>\n",
              "    .dataframe tbody tr th:only-of-type {\n",
              "        vertical-align: middle;\n",
              "    }\n",
              "\n",
              "    .dataframe tbody tr th {\n",
              "        vertical-align: top;\n",
              "    }\n",
              "\n",
              "    .dataframe thead th {\n",
              "        text-align: right;\n",
              "    }\n",
              "</style>\n",
              "<table border=\"1\" class=\"dataframe\">\n",
              "  <thead>\n",
              "    <tr style=\"text-align: right;\">\n",
              "      <th></th>\n",
              "      <th>Div</th>\n",
              "      <th>Date</th>\n",
              "      <th>HomeTeam</th>\n",
              "      <th>AwayTeam</th>\n",
              "      <th>FTHG</th>\n",
              "      <th>FTAG</th>\n",
              "      <th>FTR</th>\n",
              "      <th>HTHG</th>\n",
              "      <th>HTAG</th>\n",
              "      <th>HTR</th>\n",
              "      <th>Season</th>\n",
              "    </tr>\n",
              "  </thead>\n",
              "  <tbody>\n",
              "    <tr>\n",
              "      <th>0</th>\n",
              "      <td>D1</td>\n",
              "      <td>7/8/1993</td>\n",
              "      <td>Bayern Munich</td>\n",
              "      <td>Freiburg</td>\n",
              "      <td>3</td>\n",
              "      <td>1</td>\n",
              "      <td>H</td>\n",
              "      <td>NaN</td>\n",
              "      <td>NaN</td>\n",
              "      <td>NaN</td>\n",
              "      <td>1993-94</td>\n",
              "    </tr>\n",
              "    <tr>\n",
              "      <th>1</th>\n",
              "      <td>D1</td>\n",
              "      <td>7/8/1993</td>\n",
              "      <td>Dortmund</td>\n",
              "      <td>Karlsruhe</td>\n",
              "      <td>2</td>\n",
              "      <td>1</td>\n",
              "      <td>H</td>\n",
              "      <td>NaN</td>\n",
              "      <td>NaN</td>\n",
              "      <td>NaN</td>\n",
              "      <td>1993-94</td>\n",
              "    </tr>\n",
              "    <tr>\n",
              "      <th>2</th>\n",
              "      <td>D1</td>\n",
              "      <td>7/8/1993</td>\n",
              "      <td>Duisburg</td>\n",
              "      <td>Leverkusen</td>\n",
              "      <td>2</td>\n",
              "      <td>2</td>\n",
              "      <td>D</td>\n",
              "      <td>NaN</td>\n",
              "      <td>NaN</td>\n",
              "      <td>NaN</td>\n",
              "      <td>1993-94</td>\n",
              "    </tr>\n",
              "    <tr>\n",
              "      <th>3</th>\n",
              "      <td>D1</td>\n",
              "      <td>7/8/1993</td>\n",
              "      <td>FC Koln</td>\n",
              "      <td>Kaiserslautern</td>\n",
              "      <td>0</td>\n",
              "      <td>2</td>\n",
              "      <td>A</td>\n",
              "      <td>NaN</td>\n",
              "      <td>NaN</td>\n",
              "      <td>NaN</td>\n",
              "      <td>1993-94</td>\n",
              "    </tr>\n",
              "    <tr>\n",
              "      <th>4</th>\n",
              "      <td>D1</td>\n",
              "      <td>7/8/1993</td>\n",
              "      <td>Hamburg</td>\n",
              "      <td>Nurnberg</td>\n",
              "      <td>5</td>\n",
              "      <td>2</td>\n",
              "      <td>H</td>\n",
              "      <td>NaN</td>\n",
              "      <td>NaN</td>\n",
              "      <td>NaN</td>\n",
              "      <td>1993-94</td>\n",
              "    </tr>\n",
              "    <tr>\n",
              "      <th>5</th>\n",
              "      <td>D1</td>\n",
              "      <td>7/8/1993</td>\n",
              "      <td>Leipzig</td>\n",
              "      <td>Dresden</td>\n",
              "      <td>3</td>\n",
              "      <td>3</td>\n",
              "      <td>D</td>\n",
              "      <td>NaN</td>\n",
              "      <td>NaN</td>\n",
              "      <td>NaN</td>\n",
              "      <td>1993-94</td>\n",
              "    </tr>\n",
              "    <tr>\n",
              "      <th>6</th>\n",
              "      <td>D1</td>\n",
              "      <td>7/8/1993</td>\n",
              "      <td>M'Gladbach</td>\n",
              "      <td>Ein Frankfurt</td>\n",
              "      <td>0</td>\n",
              "      <td>4</td>\n",
              "      <td>A</td>\n",
              "      <td>NaN</td>\n",
              "      <td>NaN</td>\n",
              "      <td>NaN</td>\n",
              "      <td>1993-94</td>\n",
              "    </tr>\n",
              "    <tr>\n",
              "      <th>7</th>\n",
              "      <td>D1</td>\n",
              "      <td>7/8/1993</td>\n",
              "      <td>Wattenscheid</td>\n",
              "      <td>Schalke 04</td>\n",
              "      <td>3</td>\n",
              "      <td>0</td>\n",
              "      <td>H</td>\n",
              "      <td>NaN</td>\n",
              "      <td>NaN</td>\n",
              "      <td>NaN</td>\n",
              "      <td>1993-94</td>\n",
              "    </tr>\n",
              "    <tr>\n",
              "      <th>8</th>\n",
              "      <td>D1</td>\n",
              "      <td>7/8/1993</td>\n",
              "      <td>Werder Bremen</td>\n",
              "      <td>Stuttgart</td>\n",
              "      <td>5</td>\n",
              "      <td>1</td>\n",
              "      <td>H</td>\n",
              "      <td>NaN</td>\n",
              "      <td>NaN</td>\n",
              "      <td>NaN</td>\n",
              "      <td>1993-94</td>\n",
              "    </tr>\n",
              "    <tr>\n",
              "      <th>9</th>\n",
              "      <td>D1</td>\n",
              "      <td>14/08/93</td>\n",
              "      <td>Dresden</td>\n",
              "      <td>Duisburg</td>\n",
              "      <td>0</td>\n",
              "      <td>1</td>\n",
              "      <td>A</td>\n",
              "      <td>NaN</td>\n",
              "      <td>NaN</td>\n",
              "      <td>NaN</td>\n",
              "      <td>1993-94</td>\n",
              "    </tr>\n",
              "  </tbody>\n",
              "</table>\n",
              "</div>"
            ],
            "text/plain": [
              "  Div      Date       HomeTeam        AwayTeam  ...  HTHG  HTAG  HTR   Season\n",
              "0  D1  7/8/1993  Bayern Munich        Freiburg  ...   NaN   NaN  NaN  1993-94\n",
              "1  D1  7/8/1993       Dortmund       Karlsruhe  ...   NaN   NaN  NaN  1993-94\n",
              "2  D1  7/8/1993       Duisburg      Leverkusen  ...   NaN   NaN  NaN  1993-94\n",
              "3  D1  7/8/1993        FC Koln  Kaiserslautern  ...   NaN   NaN  NaN  1993-94\n",
              "4  D1  7/8/1993        Hamburg        Nurnberg  ...   NaN   NaN  NaN  1993-94\n",
              "5  D1  7/8/1993        Leipzig         Dresden  ...   NaN   NaN  NaN  1993-94\n",
              "6  D1  7/8/1993     M'Gladbach   Ein Frankfurt  ...   NaN   NaN  NaN  1993-94\n",
              "7  D1  7/8/1993   Wattenscheid      Schalke 04  ...   NaN   NaN  NaN  1993-94\n",
              "8  D1  7/8/1993  Werder Bremen       Stuttgart  ...   NaN   NaN  NaN  1993-94\n",
              "9  D1  14/08/93        Dresden        Duisburg  ...   NaN   NaN  NaN  1993-94\n",
              "\n",
              "[10 rows x 11 columns]"
            ]
          },
          "metadata": {
            "tags": []
          },
          "execution_count": 64
        }
      ]
    },
    {
      "cell_type": "code",
      "metadata": {
        "id": "kwGGDkYEI7i0",
        "colab_type": "code",
        "outputId": "360bdf8b-7a37-405c-e8e5-2077129fb031",
        "colab": {
          "base_uri": "https://localhost:8080/",
          "height": 998
        }
      },
      "source": [
        "fig = plt.figure(figsize = (10,15))\n",
        "ax = fig.gca()\n",
        "df.hist(ax=ax,bins=10)\n"
      ],
      "execution_count": 0,
      "outputs": [
        {
          "output_type": "stream",
          "text": [
            "/usr/local/lib/python3.6/dist-packages/IPython/core/interactiveshell.py:2882: UserWarning: To output multiple subplots, the figure containing the passed axes is being cleared\n",
            "  exec(code_obj, self.user_global_ns, self.user_ns)\n"
          ],
          "name": "stderr"
        },
        {
          "output_type": "execute_result",
          "data": {
            "text/plain": [
              "array([[<matplotlib.axes._subplots.AxesSubplot object at 0x7fc601c5d278>,\n",
              "        <matplotlib.axes._subplots.AxesSubplot object at 0x7fc601c20f28>],\n",
              "       [<matplotlib.axes._subplots.AxesSubplot object at 0x7fc601bd04e0>,\n",
              "        <matplotlib.axes._subplots.AxesSubplot object at 0x7fc601b76a58>]],\n",
              "      dtype=object)"
            ]
          },
          "metadata": {
            "tags": []
          },
          "execution_count": 65
        },
        {
          "output_type": "display_data",
          "data": {
            "image/png": "[encoded data removed]",
            "text/plain": [
              "<Figure size 720x1080 with 4 Axes>"
            ]
          },
          "metadata": {
            "tags": []
          }
        }
      ]
    },
    {
      "cell_type": "code",
      "metadata": {
        "id": "QoErW6ejI7jM",
        "colab_type": "code",
        "outputId": "3ffc54bf-15ad-4124-c5f0-348a606b2273",
        "colab": {
          "base_uri": "https://localhost:8080/",
          "height": 286
        }
      },
      "source": [
        "df=df.sample(n=50)\n",
        "df.plot.box()"
      ],
      "execution_count": 0,
      "outputs": [
        {
          "output_type": "execute_result",
          "data": {
            "text/plain": [
              "<matplotlib.axes._subplots.AxesSubplot at 0x7fc601c60a90>"
            ]
          },
          "metadata": {
            "tags": []
          },
          "execution_count": 66
        },
        {
          "output_type": "display_data",
          "data": {
            "image/png": "[encoded data removed]",
            "text/plain": [
              "<Figure size 432x288 with 1 Axes>"
            ]
          },
          "metadata": {
            "tags": []
          }
        }
      ]
    },
    {
      "cell_type": "code",
      "metadata": {
        "id": "D_oTpxHEI7jP",
        "colab_type": "code",
        "outputId": "2f826b09-d5ad-4f4f-c7e1-30d4b32d1c5c",
        "colab": {
          "base_uri": "https://localhost:8080/",
          "height": 284
        }
      },
      "source": [
        "df.iloc[:20].plot.bar()\n",
        "plt.show()"
      ],
      "execution_count": 0,
      "outputs": [
        {
          "output_type": "display_data",
          "data": {
            "image/png": "[encoded data removed]",
            "text/plain": [
              "<Figure size 432x288 with 1 Axes>"
            ]
          },
          "metadata": {
            "tags": []
          }
        }
      ]
    },
    {
      "cell_type": "code",
      "metadata": {
        "colab_type": "code",
        "id": "pU2wvjnMN85i",
        "colab": {}
      },
      "source": [
        "freq = {} \n",
        "for item in df.HomeTeam\t: \n",
        "        if (item in freq): \n",
        "            freq[item] += 1\n",
        "        else: \n",
        "            freq[item] = 1\n",
        "key=[x for x in freq.keys()]\n",
        "key\n",
        "value=[freq[x] for x in freq.keys()]\n",
        "value"
      ],
      "execution_count": 0,
      "outputs": []
    },
    {
      "cell_type": "code",
      "metadata": {
        "id": "V2zmznkFI7jV",
        "colab_type": "code",
        "outputId": "29bf2b8f-6432-4e57-8981-d901145a4ba6",
        "colab": {
          "base_uri": "https://localhost:8080/",
          "height": 530
        }
      },
      "source": [
        "temp1 = df['HomeTeam'].value_counts(ascending=True)\n",
        "temp2 = dict(Counter(df['HomeTeam']))\n",
        "count_row = df.shape[0]\n",
        "for i in temp2:\n",
        "    temp2[i]=round((temp2[i]/count_row)*100,2)\n",
        "print ('Frequency Table for HomeTeam\t:') \n",
        "print (temp1)\n",
        "\n",
        "print ('\\nPercentage of each HomeTeam\t:')\n",
        "print (temp2)"
      ],
      "execution_count": 0,
      "outputs": [
        {
          "output_type": "stream",
          "text": [
            "Frequency Table for HomeTeam\t:\n",
            "Hoffenheim        1\n",
            "Mainz             1\n",
            "Karlsruhe         1\n",
            "Unterhaching      1\n",
            "Werder Bremen     1\n",
            "Dortmund          1\n",
            "Braunschweig      1\n",
            "Bochum            1\n",
            "Dusseldorf        1\n",
            "Hannover          1\n",
            "Hansa Rostock     2\n",
            "M'gladbach        2\n",
            "Nurnberg          2\n",
            "Ein Frankfurt     2\n",
            "Wolfsburg         2\n",
            "Munich 1860       2\n",
            "Freiburg          3\n",
            "Hertha            3\n",
            "FC Koln           3\n",
            "Hamburg           3\n",
            "Schalke 04        4\n",
            "Kaiserslautern    4\n",
            "Leverkusen        4\n",
            "Stuttgart         4\n",
            "Name: HomeTeam, dtype: int64\n",
            "\n",
            "Percentage of each HomeTeam\t:\n",
            "{'Hansa Rostock': 4.0, \"M'gladbach\": 4.0, 'Kaiserslautern': 8.0, 'Stuttgart': 8.0, 'Leverkusen': 8.0, 'Hamburg': 6.0, 'Mainz': 2.0, 'Unterhaching': 2.0, 'Schalke 04': 8.0, 'Hertha': 6.0, 'Nurnberg': 4.0, 'Munich 1860': 4.0, 'Werder Bremen': 2.0, 'Dortmund': 2.0, 'Braunschweig': 2.0, 'FC Koln': 6.0, 'Hoffenheim': 2.0, 'Wolfsburg': 4.0, 'Ein Frankfurt': 4.0, 'Hannover': 2.0, 'Freiburg': 6.0, 'Karlsruhe': 2.0, 'Bochum': 2.0, 'Dusseldorf': 2.0}\n"
          ],
          "name": "stdout"
        }
      ]
    },
    {
      "cell_type": "code",
      "metadata": {
        "id": "5GzNzFLUI7jZ",
        "colab_type": "code",
        "outputId": "7f6f49d2-711a-46f8-9f3b-4f5916cbbc4c",
        "colab": {
          "base_uri": "https://localhost:8080/",
          "height": 641
        }
      },
      "source": [
        "lists = sorted(temp2.items())\n",
        "fig = plt.figure(figsize=(70,10))\n",
        "ax1 = fig.add_subplot(121)\n",
        "ax1.set_xlabel('Hometeam')\n",
        "ax1.set_ylabel('Hometeam Percentages')\n",
        "ax1.set_title(\"Probability of each hometeam\")\n",
        "x, y = zip(*lists)\n",
        "plt.bar(x, y)\n",
        "plt.show()"
      ],
      "execution_count": 0,
      "outputs": [
        {
          "output_type": "display_data",
          "data": {
            "image/png": "[encoded data removed]",
            "text/plain": [
              "<Figure size 5040x720 with 1 Axes>"
            ]
          },
          "metadata": {
            "tags": []
          }
        }
      ]
    },
    {
      "cell_type": "code",
      "metadata": {
        "id": "2XBY-Ne-I7jc",
        "colab_type": "code",
        "outputId": "dccf00ba-13b3-4d37-910a-6c4cea3655ad",
        "colab": {
          "base_uri": "https://localhost:8080/",
          "height": 257
        }
      },
      "source": [
        "figureObject, axesObject = plt.subplots()\n",
        "\n",
        "axesObject.pie(y,labels=x,autopct='%1.2f',startangle=90)\n",
        "axesObject.axis('equal')\n",
        "plt.show()"
      ],
      "execution_count": 0,
      "outputs": [
        {
          "output_type": "display_data",
          "data": {
            "image/png": "[encoded data removed]",
            "text/plain": [
              "<Figure size 432x288 with 1 Axes>"
            ]
          },
          "metadata": {
            "tags": []
          }
        }
      ]
    },
    {
      "cell_type": "code",
      "metadata": {
        "id": "U9quBPiyI7jf",
        "colab_type": "code",
        "outputId": "4a24b47e-8d4c-47a3-88e1-78b4a41613e0",
        "colab": {
          "base_uri": "https://localhost:8080/",
          "height": 102
        }
      },
      "source": [
        "df.mean()"
      ],
      "execution_count": 0,
      "outputs": [
        {
          "output_type": "execute_result",
          "data": {
            "text/plain": [
              "FTHG    1.400000\n",
              "FTAG    1.200000\n",
              "HTHG    0.574468\n",
              "HTAG    0.489362\n",
              "dtype: float64"
            ]
          },
          "metadata": {
            "tags": []
          },
          "execution_count": 74
        }
      ]
    },
    {
      "cell_type": "code",
      "metadata": {
        "colab_type": "code",
        "id": "vTmhYRkqPOXx",
        "outputId": "6f9d53de-8a17-4d26-ce1a-46692d763e6f",
        "colab": {
          "base_uri": "https://localhost:8080/",
          "height": 641
        }
      },
      "source": [
        "lists = sorted(temp2.items())\n",
        "fig = plt.figure(figsize=(70,10))\n",
        "ax1 = fig.add_subplot(121)\n",
        "ax1.set_xlabel('Hometeam')\n",
        "ax1.set_ylabel('Hometeam percentage')\n",
        "ax1.set_title(\"Probability of each Hometeam\")\n",
        "x, y = zip(*lists)\n",
        "plt.scatter(x, y)\n",
        "plt.show()"
      ],
      "execution_count": 0,
      "outputs": [
        {
          "output_type": "display_data",
          "data": {
            "image/png": "[encoded data removed]",
            "text/plain": [
              "<Figure size 5040x720 with 1 Axes>"
            ]
          },
          "metadata": {
            "tags": []
          }
        }
      ]
    },
    {
      "cell_type": "code",
      "metadata": {
        "id": "o-FpkdG6I7jk",
        "colab_type": "code",
        "outputId": "9bb7acc7-c72a-4977-ff49-b77089088847",
        "colab": {
          "base_uri": "https://localhost:8080/",
          "height": 34
        }
      },
      "source": [
        "list1=list(df['FTHG'])\n",
        "cleanedList = [x for x in list1 if str(x) != '0']\n",
        "mean_ar=sum(cleanedList)/len(cleanedList)\n",
        "print('Arithmetic mean:',mean_ar)"
      ],
      "execution_count": 0,
      "outputs": [
        {
          "output_type": "stream",
          "text": [
            "Arithmetic mean: 2.0\n"
          ],
          "name": "stdout"
        }
      ]
    },
    {
      "cell_type": "code",
      "metadata": {
        "id": "IinD5-sCI7jr",
        "colab_type": "code",
        "outputId": "f35b9a4d-df02-4801-94f7-25818c179c85",
        "colab": {
          "base_uri": "https://localhost:8080/",
          "height": 34
        }
      },
      "source": [
        "import scipy\n",
        "mean_gr=scipy.stats.mstats.gmean(cleanedList)\n",
        "print('Geometric mean:',mean_gr)"
      ],
      "execution_count": 0,
      "outputs": [
        {
          "output_type": "stream",
          "text": [
            "Geometric mean: 1.7300917774467823\n"
          ],
          "name": "stdout"
        }
      ]
    },
    {
      "cell_type": "code",
      "metadata": {
        "id": "-FVv8TEqI7jv",
        "colab_type": "code",
        "outputId": "da72d2a1-77e2-4ab8-ca86-9494b4b97021",
        "colab": {
          "base_uri": "https://localhost:8080/",
          "height": 34
        }
      },
      "source": [
        "mean_hr=scipy.stats.mstats.hmean(cleanedList)\n",
        "print('Harmonic mean:',mean_hr)"
      ],
      "execution_count": 0,
      "outputs": [
        {
          "output_type": "stream",
          "text": [
            "Harmonic mean: 1.5217391304347827\n"
          ],
          "name": "stdout"
        }
      ]
    },
    {
      "cell_type": "code",
      "metadata": {
        "id": "Be0GOMyQI7jx",
        "colab_type": "code",
        "outputId": "9682a1c1-ef4b-4c53-b473-eaed05f23e4f",
        "colab": {
          "base_uri": "https://localhost:8080/",
          "height": 34
        }
      },
      "source": [
        "print(cleanedList)"
      ],
      "execution_count": 0,
      "outputs": [
        {
          "output_type": "stream",
          "text": [
            "[0, 0, 0, 1, 3, 4, 1, 3, 0, 0, 1, 0, 4, 2, 1, 3, 2, 3, 2, 2, 0, 0, 3, 2, 3, 2, 3, 1, 2, 0, 0, 1, 1, 0, 1, 1, 1, 1, 1, 2, 1, 1, 0, 0, 1, 2, 0, 2, 6, 0]\n"
          ],
          "name": "stdout"
        }
      ]
    }
  ]
}